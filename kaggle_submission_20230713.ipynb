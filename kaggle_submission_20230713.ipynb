{
  "nbformat": 4,
  "nbformat_minor": 0,
  "metadata": {
    "colab": {
      "provenance": [],
      "authorship_tag": "ABX9TyMeXntPiO3cnyF5L7bJ2vBG",
      "include_colab_link": true
    },
    "kernelspec": {
      "name": "python3",
      "display_name": "Python 3"
    },
    "language_info": {
      "name": "python"
    }
  },
  "cells": [
    {
      "cell_type": "markdown",
      "metadata": {
        "id": "view-in-github",
        "colab_type": "text"
      },
      "source": [
        "<a href=\"https://colab.research.google.com/github/CoderAPS/HuBMAP/blob/main/kaggle_submission_20230713.ipynb\" target=\"_parent\"><img src=\"https://colab.research.google.com/assets/colab-badge.svg\" alt=\"Open In Colab\"/></a>"
      ]
    },
    {
      "cell_type": "code",
      "source": [
        "# Mount google drive\n",
        "from google.colab import drive\n",
        "drive.mount('/gdrive')"
      ],
      "metadata": {
        "colab": {
          "base_uri": "https://localhost:8080/"
        },
        "id": "rL7QH94jaQSu",
        "outputId": "4768dc2e-1999-4804-fe2e-5310db46ab58"
      },
      "execution_count": 1,
      "outputs": [
        {
          "output_type": "stream",
          "name": "stdout",
          "text": [
            "Mounted at /gdrive\n"
          ]
        }
      ]
    },
    {
      "cell_type": "code",
      "source": [
        "!ls /gdrive/MyDrive/DATA/HuBMAP/test/\n"
      ],
      "metadata": {
        "colab": {
          "base_uri": "https://localhost:8080/"
        },
        "id": "XmZikckDFBU-",
        "outputId": "3a41b357-94a2-421c-8dc2-b5038750bc09"
      },
      "execution_count": 2,
      "outputs": [
        {
          "output_type": "stream",
          "name": "stdout",
          "text": [
            "72e40acccadf.tif  ff434af74304.tif  ffd3d193c71e.tif\n"
          ]
        }
      ]
    },
    {
      "cell_type": "code",
      "source": [
        "%cp /gdrive/MyDrive/python_modules/normalize_image_color.py ."
      ],
      "metadata": {
        "id": "Jmqb4Dasftdo"
      },
      "execution_count": 3,
      "outputs": []
    },
    {
      "cell_type": "code",
      "source": [
        "from IPython import display"
      ],
      "metadata": {
        "id": "Vh5QoQkuBntr"
      },
      "execution_count": 4,
      "outputs": []
    },
    {
      "cell_type": "code",
      "source": [
        "!pip install ultralytics\n",
        "display.clear_output()\n"
      ],
      "metadata": {
        "id": "Ze_Jq1BgY9yh"
      },
      "execution_count": 5,
      "outputs": []
    },
    {
      "cell_type": "code",
      "source": [
        "!pip install pycocotools\n",
        "display.clear_output()"
      ],
      "metadata": {
        "id": "m6H0scbuZIhi"
      },
      "execution_count": 6,
      "outputs": []
    },
    {
      "cell_type": "code",
      "execution_count": 7,
      "metadata": {
        "id": "yoMkse4fYU8r"
      },
      "outputs": [],
      "source": [
        "# Import libraries\n",
        "import os\n",
        "import base64\n",
        "import numpy as np\n",
        "import torch\n",
        "from pycocotools import _mask as coco_mask\n",
        "import typing as t\n",
        "import zlib\n",
        "import pandas as pd\n",
        "import torchvision.transforms as T\n",
        "from ultralytics import YOLO\n",
        "from PIL import Image\n",
        "import cv2\n",
        "\n",
        "import normalize_image_color as nic\n",
        "\n"
      ]
    },
    {
      "cell_type": "code",
      "source": [
        "!ls /gdrive/MyDrive/DATA/HuBMAP/test\n"
      ],
      "metadata": {
        "colab": {
          "base_uri": "https://localhost:8080/"
        },
        "id": "q4TFRBwBbH3t",
        "outputId": "5e10e57e-1139-4db8-8d38-e772cbb6c97f"
      },
      "execution_count": 8,
      "outputs": [
        {
          "output_type": "stream",
          "name": "stdout",
          "text": [
            "72e40acccadf.tif  ff434af74304.tif  ffd3d193c71e.tif\n"
          ]
        }
      ]
    },
    {
      "cell_type": "code",
      "source": [
        "class EncodeBinaryMask:\n",
        "    @staticmethod\n",
        "    def __checking_mask(mask: np.ndarray) -> np.ndarray:\n",
        "        if mask.dtype != np.bool:\n",
        "            raise ValueError(\n",
        "                \"expects a binary mask, received dtype == %s\" %\n",
        "                mask.dtype\n",
        "            )\n",
        "        return mask\n",
        "\n",
        "    @staticmethod\n",
        "    def __convert_mask(mask: np.ndarray):\n",
        "        mask_to_encode = mask.astype(np.uint8)\n",
        "        mask_to_encode = np.asfortranarray(mask_to_encode)\n",
        "        return mask_to_encode\n",
        "\n",
        "    @staticmethod\n",
        "    def __compress_encode(encoded_mask) -> t.Text:\n",
        "        binary_str = zlib.compress(encoded_mask, zlib.Z_BEST_COMPRESSION)\n",
        "        base64_str = base64.b64encode(binary_str)\n",
        "        return base64_str\n",
        "\n",
        "    def __call__(self, mask: np.ndarray) -> t.Text:\n",
        "        mask = self.__checking_mask(mask)\n",
        "        mask_to_encode = self.__convert_mask(mask)\n",
        "        encoded_mask = coco_mask.encode(mask_to_encode)[0][\"counts\"]\n",
        "        base64_str = self.__compress_encode(encoded_mask)\n",
        "        return base64_str"
      ],
      "metadata": {
        "id": "C7Vfq1RJYdro"
      },
      "execution_count": 9,
      "outputs": []
    },
    {
      "cell_type": "code",
      "source": [
        "class Submission:\n",
        "    def __init__(self, dirpath: str, model: torch.nn.Module):\n",
        "        self.__eval_transforms = self.get_transforms()\n",
        "        self.__model = model\n",
        "        self.__encoder = EncodeBinaryMask()\n",
        "        self.__dirpath = dirpath\n",
        "        self.__filenames = os.listdir(dirpath)\n",
        "        self.height = 512\n",
        "        self.width = 512\n",
        "\n",
        "        self.__submission_dict = {\n",
        "            \"id\": [],\n",
        "            \"height\": [],\n",
        "            \"width\": [],\n",
        "            \"prediction_string\": []\n",
        "        }\n",
        "\n",
        "        self.submission = None\n",
        "\n",
        "    @staticmethod\n",
        "    def get_transforms():\n",
        "        return T.Compose([\n",
        "            T.ToTensor(),\n",
        "            T.Resize(size=(512, 512)),\n",
        "            T.Normalize(mean=[0.485, 0.456, 0.406],\n",
        "                        std=[0.229, 0.224, 0.225])\n",
        "        ])\n",
        "\n",
        "    def __len__(self):\n",
        "        return len(self.__filenames)\n",
        "\n",
        "    def __standardize_image_color(self, path: str) -> np.ndarray:\n",
        "      image = cv2.imread(path)\n",
        "      n,b,r = nic.process_color(image)\n",
        "      return r\n",
        "\n",
        "\n",
        "    def __get_columns(self) -> None:\n",
        "        for filename in self.__filenames:\n",
        "            path = self.__get_image_path(filename)\n",
        "\n",
        "            # standardize image color\n",
        "            image_standardized = self.__standardize_image_color(path)\n",
        "\n",
        "            masks = self.__forward(image_standardized)\n",
        "            identifier, height, width, prediction_string = self.__get_cells(filename, masks)\n",
        "            self.__update_columns(identifier, height, width, prediction_string)\n",
        "\n",
        "    def __update_columns(self, identifier: str, height: int, width: int, prediction_string: str) -> None:\n",
        "        self.__submission_dict[\"id\"].append(identifier)\n",
        "        self.__submission_dict[\"height\"].append(height)\n",
        "        self.__submission_dict[\"width\"].append(width)\n",
        "        self.__submission_dict[\"prediction_string\"].append(prediction_string)\n",
        "\n",
        "    def __get_cells(self, filename: str, masks: list):\n",
        "        prediction_string = \"\"\n",
        "        prediction_string = self.__get_prediction_string(masks, prediction_string)\n",
        "        identifier = filename.split(\".\")[0]\n",
        "        return identifier, self.height, self.width, prediction_string\n",
        "\n",
        "    def __get_prediction_string(self, masks: list, prediction_string: str) -> str:\n",
        "        if masks:\n",
        "            for outputs in masks:\n",
        "                mask = outputs[\"mask\"]\n",
        "                mask = np.where(mask > 0.5, 1, 0).astype(np.bool)\n",
        "                base64_str = self.__encoder(mask)\n",
        "                confidence = outputs[\"confidence\"]\n",
        "                prediction_string += f\"0 {confidence} {base64_str.decode('utf-8')} \"\n",
        "        else:\n",
        "            return \"\"\n",
        "        return prediction_string\n",
        "\n",
        "    def __get_image_path(self, filename: str) -> str:\n",
        "        return os.path.join(\n",
        "            self.__dirpath, filename\n",
        "        )\n",
        "\n",
        "    def __get_image(self, path: str) -> torch.Tensor:\n",
        "        image = Image.open(path)\n",
        "        image = np.asarray(image)\n",
        "        image = self.__eval_transforms(image)\n",
        "        return image\n",
        "\n",
        "    def __forward(self, image: np.ndarray) -> list:\n",
        "        masks = self.__model(image)\n",
        "        return masks\n",
        "\n",
        "    def submit(self) -> None:\n",
        "        if not self.submission:\n",
        "            self.__get_columns()\n",
        "            self.submission = pd.DataFrame(self.__submission_dict)\n",
        "            self.submission = self.submission.set_index('id')\n",
        "            self.submission.to_csv(\"submission.csv\")"
      ],
      "metadata": {
        "id": "qyXySgLwYjfD"
      },
      "execution_count": 10,
      "outputs": []
    },
    {
      "cell_type": "code",
      "source": [
        "class BestYolo:\n",
        "    def __init__(self, conf: float = 0.05):\n",
        "        self.model_path = \"/gdrive/MyDrive/saved_models_weights/HuBMAP/YOLOv8_20230711/best.pt\"\n",
        "        self.model = self.get_model()\n",
        "        self.conf = conf\n",
        "\n",
        "    def get_model(self) -> YOLO:\n",
        "        return YOLO(self.model_path)\n",
        "\n",
        "    def __call__(self, source) -> list[dict, ...]:\n",
        "        sublist = []\n",
        "        result = self.model(source)[0]\n",
        "        if result.masks:\n",
        "            for i in range(len(result.masks.data)):\n",
        "                conf = round(float(result.boxes.conf[i]), 2)\n",
        "                mask = np.expand_dims(result.masks.data[i].cpu().numpy(), axis=0).transpose(1,2,0)\n",
        "\n",
        "                if int(result.boxes.cls[i]) == 0 and conf >= self.conf:\n",
        "                    sublist.append({\"mask\": mask, \"confidence\": conf})\n",
        "                else:\n",
        "                    continue\n",
        "            return sublist\n",
        "        else:\n",
        "            return None"
      ],
      "metadata": {
        "id": "q-ThFtAQYox3"
      },
      "execution_count": 11,
      "outputs": []
    },
    {
      "cell_type": "code",
      "source": [
        "__TEST_PATH = \"/gdrive/MyDrive/DATA/HuBMAP/test/\"\n",
        "model = BestYolo()\n",
        "sub = Submission(dirpath=__TEST_PATH, model=model)\n",
        "sub.submit()"
      ],
      "metadata": {
        "colab": {
          "base_uri": "https://localhost:8080/"
        },
        "id": "p6nZN8R-Yuj8",
        "outputId": "0f916e02-6fbf-418c-9a23-d2e8d2aec6b2"
      },
      "execution_count": 12,
      "outputs": [
        {
          "output_type": "stream",
          "name": "stderr",
          "text": [
            "\n",
            "0: 512x512 8 blood_vessels, 1 unsure, 4364.5ms\n",
            "Speed: 6.6ms preprocess, 4364.5ms inference, 91.5ms postprocess per image at shape (1, 3, 512, 512)\n",
            "<ipython-input-10-aae1805a876f>:65: DeprecationWarning: `np.bool` is a deprecated alias for the builtin `bool`. To silence this warning, use `bool` by itself. Doing this will not modify any behavior and is safe. If you specifically wanted the numpy scalar type, use `np.bool_` here.\n",
            "Deprecated in NumPy 1.20; for more details and guidance: https://numpy.org/devdocs/release/1.20.0-notes.html#deprecations\n",
            "  mask = np.where(mask > 0.5, 1, 0).astype(np.bool)\n",
            "<ipython-input-9-b221c9ae9634>:4: DeprecationWarning: `np.bool` is a deprecated alias for the builtin `bool`. To silence this warning, use `bool` by itself. Doing this will not modify any behavior and is safe. If you specifically wanted the numpy scalar type, use `np.bool_` here.\n",
            "Deprecated in NumPy 1.20; for more details and guidance: https://numpy.org/devdocs/release/1.20.0-notes.html#deprecations\n",
            "  if mask.dtype != np.bool:\n",
            "\n",
            "0: 512x512 13 blood_vessels, 2 glomeruluss, 5290.3ms\n",
            "Speed: 9.9ms preprocess, 5290.3ms inference, 39.6ms postprocess per image at shape (1, 3, 512, 512)\n",
            "\n",
            "0: 512x512 11 blood_vessels, 3790.3ms\n",
            "Speed: 10.5ms preprocess, 3790.3ms inference, 24.8ms postprocess per image at shape (1, 3, 512, 512)\n"
          ]
        }
      ]
    },
    {
      "cell_type": "code",
      "source": [
        "sub.submission.head()"
      ],
      "metadata": {
        "colab": {
          "base_uri": "https://localhost:8080/",
          "height": 175
        },
        "id": "9ZHRZhAlY0j2",
        "outputId": "b3b4b644-3c90-4d77-f6a0-83130b9482b2"
      },
      "execution_count": 13,
      "outputs": [
        {
          "output_type": "execute_result",
          "data": {
            "text/plain": [
              "              height  width                                  prediction_string\n",
              "id                                                                            \n",
              "72e40acccadf     512    512  0 0.81 eNqLiAgytU6yN/Mx9Dc0MPCHkggWjARBP2M/IA8...\n",
              "ffd3d193c71e     512    512  0 0.71 eNqLjYswsUq1N/Yz9EdAAwMQhgKooJ+Rv5EfkAR...\n",
              "ff434af74304     512    512  0 0.67 eNoLjc0wsEyzN/I39DfwNzSAYUM/QzATAiCCMGk..."
            ],
            "text/html": [
              "\n",
              "\n",
              "  <div id=\"df-b9687fe9-3e48-40c5-88ab-b1376b1127ae\">\n",
              "    <div class=\"colab-df-container\">\n",
              "      <div>\n",
              "<style scoped>\n",
              "    .dataframe tbody tr th:only-of-type {\n",
              "        vertical-align: middle;\n",
              "    }\n",
              "\n",
              "    .dataframe tbody tr th {\n",
              "        vertical-align: top;\n",
              "    }\n",
              "\n",
              "    .dataframe thead th {\n",
              "        text-align: right;\n",
              "    }\n",
              "</style>\n",
              "<table border=\"1\" class=\"dataframe\">\n",
              "  <thead>\n",
              "    <tr style=\"text-align: right;\">\n",
              "      <th></th>\n",
              "      <th>height</th>\n",
              "      <th>width</th>\n",
              "      <th>prediction_string</th>\n",
              "    </tr>\n",
              "    <tr>\n",
              "      <th>id</th>\n",
              "      <th></th>\n",
              "      <th></th>\n",
              "      <th></th>\n",
              "    </tr>\n",
              "  </thead>\n",
              "  <tbody>\n",
              "    <tr>\n",
              "      <th>72e40acccadf</th>\n",
              "      <td>512</td>\n",
              "      <td>512</td>\n",
              "      <td>0 0.81 eNqLiAgytU6yN/Mx9Dc0MPCHkggWjARBP2M/IA8...</td>\n",
              "    </tr>\n",
              "    <tr>\n",
              "      <th>ffd3d193c71e</th>\n",
              "      <td>512</td>\n",
              "      <td>512</td>\n",
              "      <td>0 0.71 eNqLjYswsUq1N/Yz9EdAAwMQhgKooJ+Rv5EfkAR...</td>\n",
              "    </tr>\n",
              "    <tr>\n",
              "      <th>ff434af74304</th>\n",
              "      <td>512</td>\n",
              "      <td>512</td>\n",
              "      <td>0 0.67 eNoLjc0wsEyzN/I39DfwNzSAYUM/QzATAiCCMGk...</td>\n",
              "    </tr>\n",
              "  </tbody>\n",
              "</table>\n",
              "</div>\n",
              "      <button class=\"colab-df-convert\" onclick=\"convertToInteractive('df-b9687fe9-3e48-40c5-88ab-b1376b1127ae')\"\n",
              "              title=\"Convert this dataframe to an interactive table.\"\n",
              "              style=\"display:none;\">\n",
              "\n",
              "  <svg xmlns=\"http://www.w3.org/2000/svg\" height=\"24px\"viewBox=\"0 0 24 24\"\n",
              "       width=\"24px\">\n",
              "    <path d=\"M0 0h24v24H0V0z\" fill=\"none\"/>\n",
              "    <path d=\"M18.56 5.44l.94 2.06.94-2.06 2.06-.94-2.06-.94-.94-2.06-.94 2.06-2.06.94zm-11 1L8.5 8.5l.94-2.06 2.06-.94-2.06-.94L8.5 2.5l-.94 2.06-2.06.94zm10 10l.94 2.06.94-2.06 2.06-.94-2.06-.94-.94-2.06-.94 2.06-2.06.94z\"/><path d=\"M17.41 7.96l-1.37-1.37c-.4-.4-.92-.59-1.43-.59-.52 0-1.04.2-1.43.59L10.3 9.45l-7.72 7.72c-.78.78-.78 2.05 0 2.83L4 21.41c.39.39.9.59 1.41.59.51 0 1.02-.2 1.41-.59l7.78-7.78 2.81-2.81c.8-.78.8-2.07 0-2.86zM5.41 20L4 18.59l7.72-7.72 1.47 1.35L5.41 20z\"/>\n",
              "  </svg>\n",
              "      </button>\n",
              "\n",
              "\n",
              "\n",
              "    <div id=\"df-6c2b7a4f-036f-4e07-9c1c-f71c055f207c\">\n",
              "      <button class=\"colab-df-quickchart\" onclick=\"quickchart('df-6c2b7a4f-036f-4e07-9c1c-f71c055f207c')\"\n",
              "              title=\"Suggest charts.\"\n",
              "              style=\"display:none;\">\n",
              "\n",
              "<svg xmlns=\"http://www.w3.org/2000/svg\" height=\"24px\"viewBox=\"0 0 24 24\"\n",
              "     width=\"24px\">\n",
              "    <g>\n",
              "        <path d=\"M19 3H5c-1.1 0-2 .9-2 2v14c0 1.1.9 2 2 2h14c1.1 0 2-.9 2-2V5c0-1.1-.9-2-2-2zM9 17H7v-7h2v7zm4 0h-2V7h2v10zm4 0h-2v-4h2v4z\"/>\n",
              "    </g>\n",
              "</svg>\n",
              "      </button>\n",
              "    </div>\n",
              "\n",
              "<style>\n",
              "  .colab-df-quickchart {\n",
              "    background-color: #E8F0FE;\n",
              "    border: none;\n",
              "    border-radius: 50%;\n",
              "    cursor: pointer;\n",
              "    display: none;\n",
              "    fill: #1967D2;\n",
              "    height: 32px;\n",
              "    padding: 0 0 0 0;\n",
              "    width: 32px;\n",
              "  }\n",
              "\n",
              "  .colab-df-quickchart:hover {\n",
              "    background-color: #E2EBFA;\n",
              "    box-shadow: 0px 1px 2px rgba(60, 64, 67, 0.3), 0px 1px 3px 1px rgba(60, 64, 67, 0.15);\n",
              "    fill: #174EA6;\n",
              "  }\n",
              "\n",
              "  [theme=dark] .colab-df-quickchart {\n",
              "    background-color: #3B4455;\n",
              "    fill: #D2E3FC;\n",
              "  }\n",
              "\n",
              "  [theme=dark] .colab-df-quickchart:hover {\n",
              "    background-color: #434B5C;\n",
              "    box-shadow: 0px 1px 3px 1px rgba(0, 0, 0, 0.15);\n",
              "    filter: drop-shadow(0px 1px 2px rgba(0, 0, 0, 0.3));\n",
              "    fill: #FFFFFF;\n",
              "  }\n",
              "</style>\n",
              "\n",
              "    <script>\n",
              "      async function quickchart(key) {\n",
              "        const containerElement = document.querySelector('#' + key);\n",
              "        const charts = await google.colab.kernel.invokeFunction(\n",
              "            'suggestCharts', [key], {});\n",
              "      }\n",
              "    </script>\n",
              "\n",
              "      <script>\n",
              "\n",
              "function displayQuickchartButton(domScope) {\n",
              "  let quickchartButtonEl =\n",
              "    domScope.querySelector('#df-6c2b7a4f-036f-4e07-9c1c-f71c055f207c button.colab-df-quickchart');\n",
              "  quickchartButtonEl.style.display =\n",
              "    google.colab.kernel.accessAllowed ? 'block' : 'none';\n",
              "}\n",
              "\n",
              "        displayQuickchartButton(document);\n",
              "      </script>\n",
              "      <style>\n",
              "    .colab-df-container {\n",
              "      display:flex;\n",
              "      flex-wrap:wrap;\n",
              "      gap: 12px;\n",
              "    }\n",
              "\n",
              "    .colab-df-convert {\n",
              "      background-color: #E8F0FE;\n",
              "      border: none;\n",
              "      border-radius: 50%;\n",
              "      cursor: pointer;\n",
              "      display: none;\n",
              "      fill: #1967D2;\n",
              "      height: 32px;\n",
              "      padding: 0 0 0 0;\n",
              "      width: 32px;\n",
              "    }\n",
              "\n",
              "    .colab-df-convert:hover {\n",
              "      background-color: #E2EBFA;\n",
              "      box-shadow: 0px 1px 2px rgba(60, 64, 67, 0.3), 0px 1px 3px 1px rgba(60, 64, 67, 0.15);\n",
              "      fill: #174EA6;\n",
              "    }\n",
              "\n",
              "    [theme=dark] .colab-df-convert {\n",
              "      background-color: #3B4455;\n",
              "      fill: #D2E3FC;\n",
              "    }\n",
              "\n",
              "    [theme=dark] .colab-df-convert:hover {\n",
              "      background-color: #434B5C;\n",
              "      box-shadow: 0px 1px 3px 1px rgba(0, 0, 0, 0.15);\n",
              "      filter: drop-shadow(0px 1px 2px rgba(0, 0, 0, 0.3));\n",
              "      fill: #FFFFFF;\n",
              "    }\n",
              "  </style>\n",
              "\n",
              "      <script>\n",
              "        const buttonEl =\n",
              "          document.querySelector('#df-b9687fe9-3e48-40c5-88ab-b1376b1127ae button.colab-df-convert');\n",
              "        buttonEl.style.display =\n",
              "          google.colab.kernel.accessAllowed ? 'block' : 'none';\n",
              "\n",
              "        async function convertToInteractive(key) {\n",
              "          const element = document.querySelector('#df-b9687fe9-3e48-40c5-88ab-b1376b1127ae');\n",
              "          const dataTable =\n",
              "            await google.colab.kernel.invokeFunction('convertToInteractive',\n",
              "                                                     [key], {});\n",
              "          if (!dataTable) return;\n",
              "\n",
              "          const docLinkHtml = 'Like what you see? Visit the ' +\n",
              "            '<a target=\"_blank\" href=https://colab.research.google.com/notebooks/data_table.ipynb>data table notebook</a>'\n",
              "            + ' to learn more about interactive tables.';\n",
              "          element.innerHTML = '';\n",
              "          dataTable['output_type'] = 'display_data';\n",
              "          await google.colab.output.renderOutput(dataTable, element);\n",
              "          const docLink = document.createElement('div');\n",
              "          docLink.innerHTML = docLinkHtml;\n",
              "          element.appendChild(docLink);\n",
              "        }\n",
              "      </script>\n",
              "    </div>\n",
              "  </div>\n"
            ]
          },
          "metadata": {},
          "execution_count": 13
        }
      ]
    }
  ]
}