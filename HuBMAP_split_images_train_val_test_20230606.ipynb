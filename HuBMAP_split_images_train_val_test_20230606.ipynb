{
  "nbformat": 4,
  "nbformat_minor": 0,
  "metadata": {
    "colab": {
      "provenance": [],
      "authorship_tag": "ABX9TyOGajrXalMJPQ84RfI6gzmm",
      "include_colab_link": true
    },
    "kernelspec": {
      "name": "python3",
      "display_name": "Python 3"
    },
    "language_info": {
      "name": "python"
    }
  },
  "cells": [
    {
      "cell_type": "markdown",
      "metadata": {
        "id": "view-in-github",
        "colab_type": "text"
      },
      "source": [
        "<a href=\"https://colab.research.google.com/github/CoderAPS/HuBMAP/blob/main/HuBMAP_split_images_train_val_test_20230606.ipynb\" target=\"_parent\"><img src=\"https://colab.research.google.com/assets/colab-badge.svg\" alt=\"Open In Colab\"/></a>"
      ]
    },
    {
      "cell_type": "code",
      "execution_count": 1,
      "metadata": {
        "colab": {
          "base_uri": "https://localhost:8080/"
        },
        "id": "9OCQNJLvc1_L",
        "outputId": "a7d2facc-ea4e-4bce-fc7d-d25f7ee2a521"
      },
      "outputs": [
        {
          "output_type": "stream",
          "name": "stdout",
          "text": [
            "Your runtime has 13.6 gigabytes of available RAM\n",
            "\n",
            "Not using a high-RAM runtime\n"
          ]
        }
      ],
      "source": [
        "# Check RAM\n",
        "from psutil import virtual_memory\n",
        "ram_gb = virtual_memory().total / 1e9\n",
        "print('Your runtime has {:.1f} gigabytes of available RAM\\n'.format(ram_gb))\n",
        "\n",
        "if ram_gb < 20:\n",
        "  print('Not using a high-RAM runtime')\n",
        "else:\n",
        "  print('You are using a high-RAM runtime!')"
      ]
    },
    {
      "cell_type": "code",
      "source": [
        "# Mount google drive\n",
        "from google.colab import drive\n",
        "drive.mount('/gdrive')"
      ],
      "metadata": {
        "colab": {
          "base_uri": "https://localhost:8080/"
        },
        "id": "0HDdHO7qdPvg",
        "outputId": "47d261ce-0bad-45d5-d108-7e286b585609"
      },
      "execution_count": 2,
      "outputs": [
        {
          "output_type": "stream",
          "name": "stdout",
          "text": [
            "Mounted at /gdrive\n"
          ]
        }
      ]
    },
    {
      "cell_type": "code",
      "source": [
        "!ls /gdrive/MyDrive/DATA/HuBMAP/"
      ],
      "metadata": {
        "colab": {
          "base_uri": "https://localhost:8080/"
        },
        "id": "mS6GbyxUdYKm",
        "outputId": "e65e1468-8c4f-4044-ccd3-ed7a9544348a"
      },
      "execution_count": 3,
      "outputs": [
        {
          "output_type": "stream",
          "name": "stdout",
          "text": [
            "annotation_info.csv  masks_4d\t\t    test\t   wsi_meta.csv\n",
            "images_info.csv      polygons.jsonl\t    tile_meta.csv\n",
            "masks\t\t     sample_submission.csv  train\n"
          ]
        }
      ]
    },
    {
      "cell_type": "code",
      "source": [
        "# Import libraries\n",
        "import pandas as pd\n",
        "import numpy as np\n",
        "import cv2\n",
        "import glob\n",
        "from matplotlib import pyplot as plt"
      ],
      "metadata": {
        "id": "2GGOMPTHdhTi"
      },
      "execution_count": 4,
      "outputs": []
    },
    {
      "cell_type": "code",
      "source": [
        "annotation_info = pd.read_csv('/gdrive/MyDrive/DATA/HuBMAP/annotation_info.csv',index_col=0)"
      ],
      "metadata": {
        "id": "u_MbQfgTeA55"
      },
      "execution_count": 5,
      "outputs": []
    },
    {
      "cell_type": "code",
      "source": [
        "annotation_info.head()"
      ],
      "metadata": {
        "colab": {
          "base_uri": "https://localhost:8080/",
          "height": 206
        },
        "id": "q276TXWVfzpu",
        "outputId": "28dca563-de9e-4e75-ad1e-238267294392"
      },
      "execution_count": 6,
      "outputs": [
        {
          "output_type": "execute_result",
          "data": {
            "text/plain": [
              "              blood_vessel  glomerulus  unsure\n",
              "0006ff2aa7cd             8           1       0\n",
              "00168d1b7522             1           1       0\n",
              "0033bbc76b6b             3           0       1\n",
              "003504460b3a             7           0       0\n",
              "004daf1cbe75             9           1       0"
            ],
            "text/html": [
              "\n",
              "  <div id=\"df-88af828f-991f-49dd-9dc5-2601fc5da6d8\">\n",
              "    <div class=\"colab-df-container\">\n",
              "      <div>\n",
              "<style scoped>\n",
              "    .dataframe tbody tr th:only-of-type {\n",
              "        vertical-align: middle;\n",
              "    }\n",
              "\n",
              "    .dataframe tbody tr th {\n",
              "        vertical-align: top;\n",
              "    }\n",
              "\n",
              "    .dataframe thead th {\n",
              "        text-align: right;\n",
              "    }\n",
              "</style>\n",
              "<table border=\"1\" class=\"dataframe\">\n",
              "  <thead>\n",
              "    <tr style=\"text-align: right;\">\n",
              "      <th></th>\n",
              "      <th>blood_vessel</th>\n",
              "      <th>glomerulus</th>\n",
              "      <th>unsure</th>\n",
              "    </tr>\n",
              "  </thead>\n",
              "  <tbody>\n",
              "    <tr>\n",
              "      <th>0006ff2aa7cd</th>\n",
              "      <td>8</td>\n",
              "      <td>1</td>\n",
              "      <td>0</td>\n",
              "    </tr>\n",
              "    <tr>\n",
              "      <th>00168d1b7522</th>\n",
              "      <td>1</td>\n",
              "      <td>1</td>\n",
              "      <td>0</td>\n",
              "    </tr>\n",
              "    <tr>\n",
              "      <th>0033bbc76b6b</th>\n",
              "      <td>3</td>\n",
              "      <td>0</td>\n",
              "      <td>1</td>\n",
              "    </tr>\n",
              "    <tr>\n",
              "      <th>003504460b3a</th>\n",
              "      <td>7</td>\n",
              "      <td>0</td>\n",
              "      <td>0</td>\n",
              "    </tr>\n",
              "    <tr>\n",
              "      <th>004daf1cbe75</th>\n",
              "      <td>9</td>\n",
              "      <td>1</td>\n",
              "      <td>0</td>\n",
              "    </tr>\n",
              "  </tbody>\n",
              "</table>\n",
              "</div>\n",
              "      <button class=\"colab-df-convert\" onclick=\"convertToInteractive('df-88af828f-991f-49dd-9dc5-2601fc5da6d8')\"\n",
              "              title=\"Convert this dataframe to an interactive table.\"\n",
              "              style=\"display:none;\">\n",
              "        \n",
              "  <svg xmlns=\"http://www.w3.org/2000/svg\" height=\"24px\"viewBox=\"0 0 24 24\"\n",
              "       width=\"24px\">\n",
              "    <path d=\"M0 0h24v24H0V0z\" fill=\"none\"/>\n",
              "    <path d=\"M18.56 5.44l.94 2.06.94-2.06 2.06-.94-2.06-.94-.94-2.06-.94 2.06-2.06.94zm-11 1L8.5 8.5l.94-2.06 2.06-.94-2.06-.94L8.5 2.5l-.94 2.06-2.06.94zm10 10l.94 2.06.94-2.06 2.06-.94-2.06-.94-.94-2.06-.94 2.06-2.06.94z\"/><path d=\"M17.41 7.96l-1.37-1.37c-.4-.4-.92-.59-1.43-.59-.52 0-1.04.2-1.43.59L10.3 9.45l-7.72 7.72c-.78.78-.78 2.05 0 2.83L4 21.41c.39.39.9.59 1.41.59.51 0 1.02-.2 1.41-.59l7.78-7.78 2.81-2.81c.8-.78.8-2.07 0-2.86zM5.41 20L4 18.59l7.72-7.72 1.47 1.35L5.41 20z\"/>\n",
              "  </svg>\n",
              "      </button>\n",
              "      \n",
              "  <style>\n",
              "    .colab-df-container {\n",
              "      display:flex;\n",
              "      flex-wrap:wrap;\n",
              "      gap: 12px;\n",
              "    }\n",
              "\n",
              "    .colab-df-convert {\n",
              "      background-color: #E8F0FE;\n",
              "      border: none;\n",
              "      border-radius: 50%;\n",
              "      cursor: pointer;\n",
              "      display: none;\n",
              "      fill: #1967D2;\n",
              "      height: 32px;\n",
              "      padding: 0 0 0 0;\n",
              "      width: 32px;\n",
              "    }\n",
              "\n",
              "    .colab-df-convert:hover {\n",
              "      background-color: #E2EBFA;\n",
              "      box-shadow: 0px 1px 2px rgba(60, 64, 67, 0.3), 0px 1px 3px 1px rgba(60, 64, 67, 0.15);\n",
              "      fill: #174EA6;\n",
              "    }\n",
              "\n",
              "    [theme=dark] .colab-df-convert {\n",
              "      background-color: #3B4455;\n",
              "      fill: #D2E3FC;\n",
              "    }\n",
              "\n",
              "    [theme=dark] .colab-df-convert:hover {\n",
              "      background-color: #434B5C;\n",
              "      box-shadow: 0px 1px 3px 1px rgba(0, 0, 0, 0.15);\n",
              "      filter: drop-shadow(0px 1px 2px rgba(0, 0, 0, 0.3));\n",
              "      fill: #FFFFFF;\n",
              "    }\n",
              "  </style>\n",
              "\n",
              "      <script>\n",
              "        const buttonEl =\n",
              "          document.querySelector('#df-88af828f-991f-49dd-9dc5-2601fc5da6d8 button.colab-df-convert');\n",
              "        buttonEl.style.display =\n",
              "          google.colab.kernel.accessAllowed ? 'block' : 'none';\n",
              "\n",
              "        async function convertToInteractive(key) {\n",
              "          const element = document.querySelector('#df-88af828f-991f-49dd-9dc5-2601fc5da6d8');\n",
              "          const dataTable =\n",
              "            await google.colab.kernel.invokeFunction('convertToInteractive',\n",
              "                                                     [key], {});\n",
              "          if (!dataTable) return;\n",
              "\n",
              "          const docLinkHtml = 'Like what you see? Visit the ' +\n",
              "            '<a target=\"_blank\" href=https://colab.research.google.com/notebooks/data_table.ipynb>data table notebook</a>'\n",
              "            + ' to learn more about interactive tables.';\n",
              "          element.innerHTML = '';\n",
              "          dataTable['output_type'] = 'display_data';\n",
              "          await google.colab.output.renderOutput(dataTable, element);\n",
              "          const docLink = document.createElement('div');\n",
              "          docLink.innerHTML = docLinkHtml;\n",
              "          element.appendChild(docLink);\n",
              "        }\n",
              "      </script>\n",
              "    </div>\n",
              "  </div>\n",
              "  "
            ]
          },
          "metadata": {},
          "execution_count": 6
        }
      ]
    },
    {
      "cell_type": "code",
      "source": [
        "#@title hide\n",
        "images_file_path = glob.glob('/gdrive/MyDrive/DATA/HuBMAP/train/*')"
      ],
      "metadata": {
        "id": "do1uaGepe2iv",
        "cellView": "form"
      },
      "execution_count": 12,
      "outputs": []
    },
    {
      "cell_type": "code",
      "source": [
        "#@title hide\n",
        "#image_names = [image_path.split('/')[-1].split('.')[0] for image_path in images_file_path]"
      ],
      "metadata": {
        "id": "tqA87HLWfmND",
        "cellView": "form"
      },
      "execution_count": null,
      "outputs": []
    },
    {
      "cell_type": "code",
      "source": [
        "#@title hide\n",
        "#images_info = pd.DataFrame({'id':image_names})\n",
        "#images_info['has_mask'] = images_info.id.map(\n",
        "#    lambda id: 'yes' if id in annotation_info.index.tolist() else 'no')\n",
        "#images_info.head()"
      ],
      "metadata": {
        "id": "ip_yyhCcgxHa",
        "cellView": "form"
      },
      "execution_count": 13,
      "outputs": []
    },
    {
      "cell_type": "code",
      "source": [
        "#@title hide\n",
        "#images_info.to_csv('/gdrive/MyDrive/DATA/HuBMAP/images_info.csv')"
      ],
      "metadata": {
        "id": "UsMIdonvjQmr",
        "cellView": "form"
      },
      "execution_count": null,
      "outputs": []
    },
    {
      "cell_type": "code",
      "source": [
        "images_info = pd.read_csv('/gdrive/MyDrive/DATA/HuBMAP/images_info.csv',index_col=0)"
      ],
      "metadata": {
        "id": "BCDbcwkPzR3v"
      },
      "execution_count": 15,
      "outputs": []
    },
    {
      "cell_type": "code",
      "source": [
        "images_info.head()"
      ],
      "metadata": {
        "colab": {
          "base_uri": "https://localhost:8080/",
          "height": 206
        },
        "id": "NCXpZ3hPzeTT",
        "outputId": "c72f4186-56fa-426c-e272-09bd37f67df3"
      },
      "execution_count": 16,
      "outputs": [
        {
          "output_type": "execute_result",
          "data": {
            "text/plain": [
              "             id has_mask\n",
              "0  da693ca2093c       no\n",
              "1  daf9eb07acd4       no\n",
              "2  db047e105270       no\n",
              "3  da5cca9855f5      yes\n",
              "4  dbb355ee6c9a       no"
            ],
            "text/html": [
              "\n",
              "  <div id=\"df-6357ae8c-2a18-479e-8d01-d1594ce5b411\">\n",
              "    <div class=\"colab-df-container\">\n",
              "      <div>\n",
              "<style scoped>\n",
              "    .dataframe tbody tr th:only-of-type {\n",
              "        vertical-align: middle;\n",
              "    }\n",
              "\n",
              "    .dataframe tbody tr th {\n",
              "        vertical-align: top;\n",
              "    }\n",
              "\n",
              "    .dataframe thead th {\n",
              "        text-align: right;\n",
              "    }\n",
              "</style>\n",
              "<table border=\"1\" class=\"dataframe\">\n",
              "  <thead>\n",
              "    <tr style=\"text-align: right;\">\n",
              "      <th></th>\n",
              "      <th>id</th>\n",
              "      <th>has_mask</th>\n",
              "    </tr>\n",
              "  </thead>\n",
              "  <tbody>\n",
              "    <tr>\n",
              "      <th>0</th>\n",
              "      <td>da693ca2093c</td>\n",
              "      <td>no</td>\n",
              "    </tr>\n",
              "    <tr>\n",
              "      <th>1</th>\n",
              "      <td>daf9eb07acd4</td>\n",
              "      <td>no</td>\n",
              "    </tr>\n",
              "    <tr>\n",
              "      <th>2</th>\n",
              "      <td>db047e105270</td>\n",
              "      <td>no</td>\n",
              "    </tr>\n",
              "    <tr>\n",
              "      <th>3</th>\n",
              "      <td>da5cca9855f5</td>\n",
              "      <td>yes</td>\n",
              "    </tr>\n",
              "    <tr>\n",
              "      <th>4</th>\n",
              "      <td>dbb355ee6c9a</td>\n",
              "      <td>no</td>\n",
              "    </tr>\n",
              "  </tbody>\n",
              "</table>\n",
              "</div>\n",
              "      <button class=\"colab-df-convert\" onclick=\"convertToInteractive('df-6357ae8c-2a18-479e-8d01-d1594ce5b411')\"\n",
              "              title=\"Convert this dataframe to an interactive table.\"\n",
              "              style=\"display:none;\">\n",
              "        \n",
              "  <svg xmlns=\"http://www.w3.org/2000/svg\" height=\"24px\"viewBox=\"0 0 24 24\"\n",
              "       width=\"24px\">\n",
              "    <path d=\"M0 0h24v24H0V0z\" fill=\"none\"/>\n",
              "    <path d=\"M18.56 5.44l.94 2.06.94-2.06 2.06-.94-2.06-.94-.94-2.06-.94 2.06-2.06.94zm-11 1L8.5 8.5l.94-2.06 2.06-.94-2.06-.94L8.5 2.5l-.94 2.06-2.06.94zm10 10l.94 2.06.94-2.06 2.06-.94-2.06-.94-.94-2.06-.94 2.06-2.06.94z\"/><path d=\"M17.41 7.96l-1.37-1.37c-.4-.4-.92-.59-1.43-.59-.52 0-1.04.2-1.43.59L10.3 9.45l-7.72 7.72c-.78.78-.78 2.05 0 2.83L4 21.41c.39.39.9.59 1.41.59.51 0 1.02-.2 1.41-.59l7.78-7.78 2.81-2.81c.8-.78.8-2.07 0-2.86zM5.41 20L4 18.59l7.72-7.72 1.47 1.35L5.41 20z\"/>\n",
              "  </svg>\n",
              "      </button>\n",
              "      \n",
              "  <style>\n",
              "    .colab-df-container {\n",
              "      display:flex;\n",
              "      flex-wrap:wrap;\n",
              "      gap: 12px;\n",
              "    }\n",
              "\n",
              "    .colab-df-convert {\n",
              "      background-color: #E8F0FE;\n",
              "      border: none;\n",
              "      border-radius: 50%;\n",
              "      cursor: pointer;\n",
              "      display: none;\n",
              "      fill: #1967D2;\n",
              "      height: 32px;\n",
              "      padding: 0 0 0 0;\n",
              "      width: 32px;\n",
              "    }\n",
              "\n",
              "    .colab-df-convert:hover {\n",
              "      background-color: #E2EBFA;\n",
              "      box-shadow: 0px 1px 2px rgba(60, 64, 67, 0.3), 0px 1px 3px 1px rgba(60, 64, 67, 0.15);\n",
              "      fill: #174EA6;\n",
              "    }\n",
              "\n",
              "    [theme=dark] .colab-df-convert {\n",
              "      background-color: #3B4455;\n",
              "      fill: #D2E3FC;\n",
              "    }\n",
              "\n",
              "    [theme=dark] .colab-df-convert:hover {\n",
              "      background-color: #434B5C;\n",
              "      box-shadow: 0px 1px 3px 1px rgba(0, 0, 0, 0.15);\n",
              "      filter: drop-shadow(0px 1px 2px rgba(0, 0, 0, 0.3));\n",
              "      fill: #FFFFFF;\n",
              "    }\n",
              "  </style>\n",
              "\n",
              "      <script>\n",
              "        const buttonEl =\n",
              "          document.querySelector('#df-6357ae8c-2a18-479e-8d01-d1594ce5b411 button.colab-df-convert');\n",
              "        buttonEl.style.display =\n",
              "          google.colab.kernel.accessAllowed ? 'block' : 'none';\n",
              "\n",
              "        async function convertToInteractive(key) {\n",
              "          const element = document.querySelector('#df-6357ae8c-2a18-479e-8d01-d1594ce5b411');\n",
              "          const dataTable =\n",
              "            await google.colab.kernel.invokeFunction('convertToInteractive',\n",
              "                                                     [key], {});\n",
              "          if (!dataTable) return;\n",
              "\n",
              "          const docLinkHtml = 'Like what you see? Visit the ' +\n",
              "            '<a target=\"_blank\" href=https://colab.research.google.com/notebooks/data_table.ipynb>data table notebook</a>'\n",
              "            + ' to learn more about interactive tables.';\n",
              "          element.innerHTML = '';\n",
              "          dataTable['output_type'] = 'display_data';\n",
              "          await google.colab.output.renderOutput(dataTable, element);\n",
              "          const docLink = document.createElement('div');\n",
              "          docLink.innerHTML = docLinkHtml;\n",
              "          element.appendChild(docLink);\n",
              "        }\n",
              "      </script>\n",
              "    </div>\n",
              "  </div>\n",
              "  "
            ]
          },
          "metadata": {},
          "execution_count": 16
        }
      ]
    },
    {
      "cell_type": "code",
      "source": [
        "# Split masks ids into blood vessel only,blood vessel and glomerulus etc..\n",
        "bv_only = annotation_info[(annotation_info['blood_vessel'] > 0)&\\\n",
        " (annotation_info['glomerulus'] == 0)&(annotation_info['unsure'] == 0)]\n",
        "\n",
        "bv_gl = annotation_info[(annotation_info['blood_vessel'] > 0)&\\\n",
        " (annotation_info['glomerulus'] > 0)&(annotation_info['unsure'] == 0)]\n",
        "\n",
        "bv_gl_u = annotation_info[(annotation_info['blood_vessel'] > 0)&\\\n",
        " (annotation_info['glomerulus'] > 0)&(annotation_info['unsure'] > 0)]\n",
        "\n",
        "bv_u = annotation_info[(annotation_info['blood_vessel'] > 0)&\\\n",
        " (annotation_info['glomerulus'] == 0)&(annotation_info['unsure'] > 0)]\n",
        "\n",
        "u_only = annotation_info[(annotation_info['blood_vessel'] == 0)&\\\n",
        " (annotation_info['glomerulus'] == 0)&(annotation_info['unsure'] > 0)]"
      ],
      "metadata": {
        "id": "eqYQILSujkfa"
      },
      "execution_count": 17,
      "outputs": []
    },
    {
      "cell_type": "code",
      "source": [
        "# Print out the number of various mask according to grouping specified above\n",
        "total = len(bv_only) + len(bv_gl) + len(bv_gl_u) + len(bv_u) + len(u_only)\n",
        "\n",
        "print(f'1. Total numer of masks: {len(annotation_info)}')\n",
        "print(f'2. Masks with blood vessel only: {len(bv_only)}')\n",
        "print(f'3. Masks with blood vessel and glomerulus: {len(bv_gl)}')\n",
        "print(f'4. Masks with blood vessel and unsure: {len(bv_u)}')\n",
        "print(f'5. Masks with blood vessel, glomerulus and unsure: {len(bv_gl_u)}')\n",
        "print(f'6. Masks with unsure: {len(u_only)}')\n",
        "print(f'7. Sum of 2 to 6: {total}')"
      ],
      "metadata": {
        "colab": {
          "base_uri": "https://localhost:8080/"
        },
        "id": "Z8c9vd5kl-LE",
        "outputId": "92bee5af-26f8-4594-96c7-4a2c0b29d4dc"
      },
      "execution_count": 18,
      "outputs": [
        {
          "output_type": "stream",
          "name": "stdout",
          "text": [
            "1. Total numer of masks: 1633\n",
            "2. Masks with blood vessel only: 867\n",
            "3. Masks with blood vessel and glomerulus: 407\n",
            "4. Masks with blood vessel and unsure: 320\n",
            "5. Masks with blood vessel, glomerulus and unsure: 28\n",
            "6. Masks with unsure: 11\n",
            "7. Sum of 2 to 6: 1633\n"
          ]
        }
      ]
    },
    {
      "cell_type": "code",
      "source": [
        "#@title hide\n",
        "#df = annotation_info[(~annotation_info.index.isin(bv_only.index))&(\n",
        "#    ~annotation_info.index.isin(bv_gl.index))&(~annotation_info.index.isin(bv_u.index))&(\n",
        "#        ~annotation_info.index.isin(bv_gl_u.index))]\n",
        "#len(df)"
      ],
      "metadata": {
        "colab": {
          "base_uri": "https://localhost:8080/"
        },
        "id": "0UTLxii4oeXS",
        "outputId": "72e30960-707c-4e3c-b9c9-b8865b2e4177",
        "cellView": "form"
      },
      "execution_count": 15,
      "outputs": [
        {
          "output_type": "execute_result",
          "data": {
            "text/plain": [
              "11"
            ]
          },
          "metadata": {},
          "execution_count": 15
        }
      ]
    },
    {
      "cell_type": "code",
      "source": [
        "#@title hide\n",
        "# Display masks with number of unsure per mask counts\n",
        "u_only.unsure.value_counts().to_frame('counts').reset_index().rename(columns={'index':'num unsure objs'})"
      ],
      "metadata": {
        "cellView": "form",
        "id": "vQsEvAGU3sKs"
      },
      "execution_count": null,
      "outputs": []
    },
    {
      "cell_type": "code",
      "source": [
        "#@title hide\n",
        "# Spliting of bv_only ids\n",
        "# test -> 4\n",
        "# val -> 78\n",
        "# train -> 785\n",
        "\n",
        "id_list = pd.Series(bv_only.index.tolist())\n",
        "max_size = len(u_only) + len(bv_gl_u) + len(bv_u) + len(bv_gl) + len(bv_only)\n",
        "common_list = []\n",
        "\n",
        "test_size = len(test_list) + 4\n",
        "val_size = len(val_list) + 78\n",
        "train_size = len(train_list) + 785\n",
        "\n",
        "while max_size > len(common_list) + len(u_only) + len(bv_gl_u) + len(bv_u) + len(bv_gl):\n",
        "  id = id_list.sample(1).values[0]\n",
        "  if len(test_list) < test_size and id not in common_list:\n",
        "    test_list.append(id)\n",
        "    common_list.append(id)\n",
        "  elif len(val_list) < val_size and id not in common_list:\n",
        "    val_list.append(id)\n",
        "    common_list.append(id)\n",
        "  elif len(train_list) < train_size and id not in common_list:\n",
        "    train_list.append(id)\n",
        "    common_list.append(id)"
      ],
      "metadata": {
        "cellView": "form",
        "id": "CIkiJiQsWEhW"
      },
      "execution_count": 154,
      "outputs": []
    },
    {
      "cell_type": "code",
      "source": [
        "#@title hide\n",
        "print(f'Number of ids assigned to test_list: {len(test_list)}')\n",
        "print(f'Number of ids assigned to val_list: {len(val_list)}')\n",
        "print(f'Number of ids assigned to train_list: {len(train_list)}')\n",
        "\n",
        "for idx,id in enumerate(bv_only.index.tolist()):\n",
        "  if id not in test_list and id not in val_list and id not in train_list:\n",
        "    print(f'{idx}:: {id}: is not in any of the three datasets!!!!')"
      ],
      "metadata": {
        "cellView": "form",
        "id": "aoHlabVGXNcy"
      },
      "execution_count": null,
      "outputs": []
    },
    {
      "cell_type": "code",
      "source": [
        "# Split image/mask for each mask group into into test, val and train lists\n",
        "# according to specified split \n",
        "def split_ids(data_sets,mask_group,max_size,splits,added_size):\n",
        "  id_list = pd.Series(mask_group.index.tolist())\n",
        "  common_list = []\n",
        "\n",
        "  test_list, val_list, train_list = data_sets[0], data_sets[1], data_sets[2]\n",
        "  test_size = len(test_list) + splits[0]\n",
        "  val_size = len(val_list) + splits[1]\n",
        "  train_size = len(train_list) + splits[2]\n",
        "\n",
        "  while max_size > len(common_list) + added_size:\n",
        "    id = id_list.sample(1).values[0]\n",
        "    if len(test_list) < test_size and id not in common_list:\n",
        "      test_list.append(id)\n",
        "      common_list.append(id)\n",
        "    elif len(val_list) < val_size and id not in common_list:\n",
        "      val_list.append(id)\n",
        "      common_list.append(id)\n",
        "    elif len(train_list) < train_size and id not in common_list:\n",
        "      train_list.append(id)\n",
        "      common_list.append(id)\n",
        "  \n",
        "  return test_list, val_list, train_list\n"
      ],
      "metadata": {
        "id": "BYZitOLAZiiI"
      },
      "execution_count": 20,
      "outputs": []
    },
    {
      "cell_type": "code",
      "source": [
        "# Split mask ids into train, validation and test where the various masks groups \n",
        "# specified above are distributed anomg the three data set as specified\n",
        "# total number of image/mask for the three datasets:\n",
        "# train = 1467\n",
        "# validation = 156\n",
        "# test = 10\n",
        "\n",
        "train_list = []\n",
        "val_list = []\n",
        "test_list = []"
      ],
      "metadata": {
        "id": "LT4ZcKSVdwzr"
      },
      "execution_count": 21,
      "outputs": []
    },
    {
      "cell_type": "code",
      "source": [
        "# Split mask group into the the three dataset list accoriding to the table below\n",
        "dataset_split = pd.DataFrame({'u_only':[1,2,8,len(u_only)],\n",
        "                              'bv_gl_u':[1,6,21,len(bv_gl_u)],\n",
        "                              'bv_u':[2,30,288,len(bv_u)],\n",
        "                              'bv_gl':[2,40,365,len(bv_gl)],\n",
        "                              'bv_only':[4,78,785,len(bv_only)]},\n",
        "                           index=['test','val','train','group_total'])\n",
        "\n",
        "dataset_split['dataset_total'] = dataset_split.sum(axis=1,numeric_only=True)\n",
        "dataset_split"
      ],
      "metadata": {
        "colab": {
          "base_uri": "https://localhost:8080/",
          "height": 174
        },
        "id": "gXEHHxutyK9M",
        "outputId": "ff61d0a8-f72d-49ec-ca34-ceccbc17bf8e"
      },
      "execution_count": 22,
      "outputs": [
        {
          "output_type": "execute_result",
          "data": {
            "text/plain": [
              "             u_only  bv_gl_u  bv_u  bv_gl  bv_only  dataset_total\n",
              "test              1        1     2      2        4             10\n",
              "val               2        6    30     40       78            156\n",
              "train             8       21   288    365      785           1467\n",
              "group_total      11       28   320    407      867           1633"
            ],
            "text/html": [
              "\n",
              "  <div id=\"df-86f0cf99-c635-4302-811c-51467e0a1cb1\">\n",
              "    <div class=\"colab-df-container\">\n",
              "      <div>\n",
              "<style scoped>\n",
              "    .dataframe tbody tr th:only-of-type {\n",
              "        vertical-align: middle;\n",
              "    }\n",
              "\n",
              "    .dataframe tbody tr th {\n",
              "        vertical-align: top;\n",
              "    }\n",
              "\n",
              "    .dataframe thead th {\n",
              "        text-align: right;\n",
              "    }\n",
              "</style>\n",
              "<table border=\"1\" class=\"dataframe\">\n",
              "  <thead>\n",
              "    <tr style=\"text-align: right;\">\n",
              "      <th></th>\n",
              "      <th>u_only</th>\n",
              "      <th>bv_gl_u</th>\n",
              "      <th>bv_u</th>\n",
              "      <th>bv_gl</th>\n",
              "      <th>bv_only</th>\n",
              "      <th>dataset_total</th>\n",
              "    </tr>\n",
              "  </thead>\n",
              "  <tbody>\n",
              "    <tr>\n",
              "      <th>test</th>\n",
              "      <td>1</td>\n",
              "      <td>1</td>\n",
              "      <td>2</td>\n",
              "      <td>2</td>\n",
              "      <td>4</td>\n",
              "      <td>10</td>\n",
              "    </tr>\n",
              "    <tr>\n",
              "      <th>val</th>\n",
              "      <td>2</td>\n",
              "      <td>6</td>\n",
              "      <td>30</td>\n",
              "      <td>40</td>\n",
              "      <td>78</td>\n",
              "      <td>156</td>\n",
              "    </tr>\n",
              "    <tr>\n",
              "      <th>train</th>\n",
              "      <td>8</td>\n",
              "      <td>21</td>\n",
              "      <td>288</td>\n",
              "      <td>365</td>\n",
              "      <td>785</td>\n",
              "      <td>1467</td>\n",
              "    </tr>\n",
              "    <tr>\n",
              "      <th>group_total</th>\n",
              "      <td>11</td>\n",
              "      <td>28</td>\n",
              "      <td>320</td>\n",
              "      <td>407</td>\n",
              "      <td>867</td>\n",
              "      <td>1633</td>\n",
              "    </tr>\n",
              "  </tbody>\n",
              "</table>\n",
              "</div>\n",
              "      <button class=\"colab-df-convert\" onclick=\"convertToInteractive('df-86f0cf99-c635-4302-811c-51467e0a1cb1')\"\n",
              "              title=\"Convert this dataframe to an interactive table.\"\n",
              "              style=\"display:none;\">\n",
              "        \n",
              "  <svg xmlns=\"http://www.w3.org/2000/svg\" height=\"24px\"viewBox=\"0 0 24 24\"\n",
              "       width=\"24px\">\n",
              "    <path d=\"M0 0h24v24H0V0z\" fill=\"none\"/>\n",
              "    <path d=\"M18.56 5.44l.94 2.06.94-2.06 2.06-.94-2.06-.94-.94-2.06-.94 2.06-2.06.94zm-11 1L8.5 8.5l.94-2.06 2.06-.94-2.06-.94L8.5 2.5l-.94 2.06-2.06.94zm10 10l.94 2.06.94-2.06 2.06-.94-2.06-.94-.94-2.06-.94 2.06-2.06.94z\"/><path d=\"M17.41 7.96l-1.37-1.37c-.4-.4-.92-.59-1.43-.59-.52 0-1.04.2-1.43.59L10.3 9.45l-7.72 7.72c-.78.78-.78 2.05 0 2.83L4 21.41c.39.39.9.59 1.41.59.51 0 1.02-.2 1.41-.59l7.78-7.78 2.81-2.81c.8-.78.8-2.07 0-2.86zM5.41 20L4 18.59l7.72-7.72 1.47 1.35L5.41 20z\"/>\n",
              "  </svg>\n",
              "      </button>\n",
              "      \n",
              "  <style>\n",
              "    .colab-df-container {\n",
              "      display:flex;\n",
              "      flex-wrap:wrap;\n",
              "      gap: 12px;\n",
              "    }\n",
              "\n",
              "    .colab-df-convert {\n",
              "      background-color: #E8F0FE;\n",
              "      border: none;\n",
              "      border-radius: 50%;\n",
              "      cursor: pointer;\n",
              "      display: none;\n",
              "      fill: #1967D2;\n",
              "      height: 32px;\n",
              "      padding: 0 0 0 0;\n",
              "      width: 32px;\n",
              "    }\n",
              "\n",
              "    .colab-df-convert:hover {\n",
              "      background-color: #E2EBFA;\n",
              "      box-shadow: 0px 1px 2px rgba(60, 64, 67, 0.3), 0px 1px 3px 1px rgba(60, 64, 67, 0.15);\n",
              "      fill: #174EA6;\n",
              "    }\n",
              "\n",
              "    [theme=dark] .colab-df-convert {\n",
              "      background-color: #3B4455;\n",
              "      fill: #D2E3FC;\n",
              "    }\n",
              "\n",
              "    [theme=dark] .colab-df-convert:hover {\n",
              "      background-color: #434B5C;\n",
              "      box-shadow: 0px 1px 3px 1px rgba(0, 0, 0, 0.15);\n",
              "      filter: drop-shadow(0px 1px 2px rgba(0, 0, 0, 0.3));\n",
              "      fill: #FFFFFF;\n",
              "    }\n",
              "  </style>\n",
              "\n",
              "      <script>\n",
              "        const buttonEl =\n",
              "          document.querySelector('#df-86f0cf99-c635-4302-811c-51467e0a1cb1 button.colab-df-convert');\n",
              "        buttonEl.style.display =\n",
              "          google.colab.kernel.accessAllowed ? 'block' : 'none';\n",
              "\n",
              "        async function convertToInteractive(key) {\n",
              "          const element = document.querySelector('#df-86f0cf99-c635-4302-811c-51467e0a1cb1');\n",
              "          const dataTable =\n",
              "            await google.colab.kernel.invokeFunction('convertToInteractive',\n",
              "                                                     [key], {});\n",
              "          if (!dataTable) return;\n",
              "\n",
              "          const docLinkHtml = 'Like what you see? Visit the ' +\n",
              "            '<a target=\"_blank\" href=https://colab.research.google.com/notebooks/data_table.ipynb>data table notebook</a>'\n",
              "            + ' to learn more about interactive tables.';\n",
              "          element.innerHTML = '';\n",
              "          dataTable['output_type'] = 'display_data';\n",
              "          await google.colab.output.renderOutput(dataTable, element);\n",
              "          const docLink = document.createElement('div');\n",
              "          docLink.innerHTML = docLinkHtml;\n",
              "          element.appendChild(docLink);\n",
              "        }\n",
              "      </script>\n",
              "    </div>\n",
              "  </div>\n",
              "  "
            ]
          },
          "metadata": {},
          "execution_count": 22
        }
      ]
    },
    {
      "cell_type": "code",
      "source": [
        "# Split mask group u_only\n",
        "test_list,val_list,train_list = split_ids([test_list,val_list,train_list],\n",
        "                                          u_only, len(u_only),[1,2,8],0)\n",
        "\n",
        "# Split mask group bv_gl_u\n",
        "test_list,val_list,train_list = split_ids([test_list,val_list,train_list],\n",
        "                                          bv_gl_u, len(u_only)+len(bv_gl_u),\n",
        "                                           [1,6,21],len(u_only))\n",
        "\n",
        "# Split mask group bv_u\n",
        "test_list,val_list,train_list = split_ids([test_list,val_list,train_list],\n",
        "                                          bv_u, len(u_only)+len(bv_gl_u)+len(bv_u),\n",
        "                                           [2,30,288],\n",
        "                                          len(u_only)+len(bv_gl_u))\n",
        "\n",
        "# Split mask group bv_gl\n",
        "test_list,val_list,train_list = split_ids([test_list,val_list,train_list],\n",
        "                                          bv_gl, \n",
        "                                          len(u_only)+len(bv_gl_u)+len(bv_u)+len(bv_gl),\n",
        "                                           [2,40,365],\n",
        "                                          len(u_only)+len(bv_gl_u)+len(bv_u))\n",
        "# Split mask group bv_only\n",
        "test_list,val_list,train_list = split_ids([test_list,val_list,train_list],\n",
        "                                          bv_only, \n",
        "                                          len(u_only)+len(bv_gl_u)+len(bv_u)+len(bv_gl)+len(bv_only),\n",
        "                                           [4,78,785],\n",
        "                                          len(u_only)+len(bv_gl_u)+len(bv_u)+len(bv_gl))"
      ],
      "metadata": {
        "id": "ULOkXSLCeDb4"
      },
      "execution_count": 23,
      "outputs": []
    },
    {
      "cell_type": "code",
      "source": [],
      "metadata": {
        "id": "UKtRJgeNfrFS"
      },
      "execution_count": 178,
      "outputs": []
    },
    {
      "cell_type": "code",
      "source": [
        "print(f'Number of ids assigned to test_list: {len(test_list)}')\n",
        "print(f'Number of ids assigned to val_list: {len(val_list)}')\n",
        "print(f'Number of ids assigned to train_list: {len(train_list)}')\n",
        "\n",
        "for i,id in enumerate(annotation_info.index.tolist()):\n",
        "  if id not in test_list and id not in val_list and id not in train_list:\n",
        "    print(f'{i}:: {id}: is not in any of the three datasets!!!!')"
      ],
      "metadata": {
        "colab": {
          "base_uri": "https://localhost:8080/"
        },
        "id": "oQo-HhuPfOfa",
        "outputId": "fce4f7a9-8540-4970-847e-1744e5286055"
      },
      "execution_count": 24,
      "outputs": [
        {
          "output_type": "stream",
          "name": "stdout",
          "text": [
            "Number of ids assigned to test_list: 10\n",
            "Number of ids assigned to val_list: 156\n",
            "Number of ids assigned to train_list: 1467\n"
          ]
        }
      ]
    },
    {
      "cell_type": "code",
      "source": [
        "test_list_ds = pd.Series(test_list) \n",
        "val_list_ds = pd.Series(val_list) \n",
        "train_list_ds = pd.Series(train_list) \n",
        "\n",
        "test_list_ds.to_csv('/gdrive/MyDrive/DATA/HuBMAP/test_list.csv')\n",
        "val_list_ds.to_csv('/gdrive/MyDrive/DATA/HuBMAP/val_list.csv')\n",
        "train_list_ds.to_csv('/gdrive/MyDrive/DATA/HuBMAP/train_list.csv')"
      ],
      "metadata": {
        "id": "c7uivKbajCfS"
      },
      "execution_count": 26,
      "outputs": []
    },
    {
      "cell_type": "code",
      "source": [
        "!ls /gdrive/MyDrive/DATA/HuBMAP"
      ],
      "metadata": {
        "colab": {
          "base_uri": "https://localhost:8080/"
        },
        "id": "wqVvzqj4A9Iv",
        "outputId": "5189a10c-3894-448b-8e62-d4c736b3a9fc"
      },
      "execution_count": 27,
      "outputs": [
        {
          "output_type": "stream",
          "name": "stdout",
          "text": [
            "annotation_info.csv  polygons.jsonl\t    tile_meta.csv   wsi_meta.csv\n",
            "images_info.csv      sample_submission.csv  train\n",
            "masks\t\t     test\t\t    train_list.csv\n",
            "masks_4d\t     test_list.csv\t    val_list.csv\n"
          ]
        }
      ]
    },
    {
      "cell_type": "code",
      "source": [
        "img_height = 512\n",
        "img_width =512\n",
        "channels = 3\n",
        "\n",
        "train_imges = np.zeros((1470,img_height,img_width,channels),dtype=np.uint8)\n",
        "val_imges = np.zeros((153,img_height,img_width,channels),dtype=np.uint8)\n",
        "test_iamges = np.zeros((10,img_height,img_width,channels),dtype=np.uint8)"
      ],
      "metadata": {
        "id": "lGd-JLgdsLQ5"
      },
      "execution_count": null,
      "outputs": []
    }
  ]
}